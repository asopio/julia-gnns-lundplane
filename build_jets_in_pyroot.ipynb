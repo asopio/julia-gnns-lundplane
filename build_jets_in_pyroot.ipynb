{
 "cells": [
  {
   "cell_type": "code",
   "execution_count": 1,
   "id": "7cdbb101",
   "metadata": {},
   "outputs": [
    {
     "name": "stdout",
     "output_type": "stream",
     "text": [
      "Welcome to JupyROOT 6.26/10\n"
     ]
    }
   ],
   "source": [
    "import ROOT"
   ]
  },
  {
   "cell_type": "code",
   "execution_count": 2,
   "id": "133d23d7",
   "metadata": {},
   "outputs": [],
   "source": [
    "# ROOT.gSystem.AddIncludePath(\"-I/mnt/storage/asopio/fastjet-install/include\")\n",
    "ROOT.gSystem.Load(\"/mnt/storage/asopio/fastjet-install/lib/libfastjet\")\n",
    "ROOT.gInterpreter.AddIncludePath(\"/mnt/storage/asopio/fastjet-install/include\")\n",
    "# ROOT.gInterpreter.Load(\"/mnt/storage/asopio/fastjet-install/lib/libfastjet\")\n",
    "\n",
    "# ROOT.gInterpreter.ProcessLine(\".L load_fastjet_libraries.cc++\")"
   ]
  },
  {
   "cell_type": "code",
   "execution_count": null,
   "id": "481fafa5",
   "metadata": {},
   "outputs": [],
   "source": []
  },
  {
   "cell_type": "code",
   "execution_count": 3,
   "id": "d3f2a0ae",
   "metadata": {},
   "outputs": [
    {
     "data": {
      "text/plain": [
       "True"
      ]
     },
     "execution_count": 3,
     "metadata": {},
     "output_type": "execute_result"
    }
   ],
   "source": [
    "ROOT.gInterpreter.Declare(\"\"\"\n",
    "#include <fastjet/PseudoJet.hh>\n",
    "fastjet::PseudoJet pjPtEtaPhiM( float pt, float eta, float phi, float m ) {\n",
    "    TLorentzVector tlv;\n",
    "    tlv.SetPtEtaPhiM( pt, eta, phi, m );\n",
    "    fastjet::PseudoJet pj = fastjet::PseudoJet( tlv.Px(), tlv.Py(), tlv.Pz(), tlv.E() );\n",
    "    return pj;\n",
    "}\n",
    "\"\"\")"
   ]
  },
  {
   "cell_type": "code",
   "execution_count": 4,
   "id": "1f6676b6",
   "metadata": {},
   "outputs": [],
   "source": [
    "pj = ROOT.pjPtEtaPhiM( 300, 1.0, 1.0, 140 )"
   ]
  },
  {
   "cell_type": "code",
   "execution_count": 5,
   "id": "e84fc745",
   "metadata": {},
   "outputs": [
    {
     "data": {
      "text/plain": [
       "<cppyy.gbl.fastjet.PseudoJet object at 0x563bc3101920>"
      ]
     },
     "execution_count": 5,
     "metadata": {},
     "output_type": "execute_result"
    }
   ],
   "source": [
    "pj"
   ]
  },
  {
   "cell_type": "code",
   "execution_count": null,
   "id": "c4497709",
   "metadata": {},
   "outputs": [],
   "source": []
  }
 ],
 "metadata": {
  "kernelspec": {
   "display_name": "Python 3 (ipykernel)",
   "language": "python",
   "name": "python3"
  },
  "language_info": {
   "codemirror_mode": {
    "name": "ipython",
    "version": 3
   },
   "file_extension": ".py",
   "mimetype": "text/x-python",
   "name": "python",
   "nbconvert_exporter": "python",
   "pygments_lexer": "ipython3",
   "version": "3.10.6"
  }
 },
 "nbformat": 4,
 "nbformat_minor": 5
}
